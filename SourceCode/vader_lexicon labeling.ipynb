{
 "cells": [
  {
   "cell_type": "code",
   "execution_count": 1,
   "id": "c58e9989",
   "metadata": {},
   "outputs": [],
   "source": [
    "import pandas as pd"
   ]
  },
  {
   "cell_type": "code",
   "execution_count": 2,
   "id": "f7f613c4",
   "metadata": {},
   "outputs": [
    {
     "data": {
      "text/html": [
       "<div>\n",
       "<style scoped>\n",
       "    .dataframe tbody tr th:only-of-type {\n",
       "        vertical-align: middle;\n",
       "    }\n",
       "\n",
       "    .dataframe tbody tr th {\n",
       "        vertical-align: top;\n",
       "    }\n",
       "\n",
       "    .dataframe thead th {\n",
       "        text-align: right;\n",
       "    }\n",
       "</style>\n",
       "<table border=\"1\" class=\"dataframe\">\n",
       "  <thead>\n",
       "    <tr style=\"text-align: right;\">\n",
       "      <th></th>\n",
       "      <th>Unnamed: 0</th>\n",
       "      <th>Text</th>\n",
       "      <th>TextEng</th>\n",
       "    </tr>\n",
       "  </thead>\n",
       "  <tbody>\n",
       "    <tr>\n",
       "      <th>0</th>\n",
       "      <td>0</td>\n",
       "      <td>@ch_chotimah2 @Dennysiregar7 @erickthohir @jok...</td>\n",
       "      <td>@ch_chotimah2 @Dennysiregar7 @erickthohir @jok...</td>\n",
       "    </tr>\n",
       "    <tr>\n",
       "      <th>1</th>\n",
       "      <td>1</td>\n",
       "      <td>Gagalnya perhelatan piala dunia U-20 di Indone...</td>\n",
       "      <td>The failure of the U-20 world cup event in Ind...</td>\n",
       "    </tr>\n",
       "    <tr>\n",
       "      <th>2</th>\n",
       "      <td>2</td>\n",
       "      <td>@tatakujiyati Tapi @aniesbaswedan kan sering m...</td>\n",
       "      <td>@tatakujiyati But @aniesbaswedan often gives a...</td>\n",
       "    </tr>\n",
       "    <tr>\n",
       "      <th>3</th>\n",
       "      <td>3</td>\n",
       "      <td>Dicoret sebagai tuan rumah piala dunia U-20, b...</td>\n",
       "      <td>Dropped as host of the U-20 world cup, will so...</td>\n",
       "    </tr>\n",
       "    <tr>\n",
       "      <th>4</th>\n",
       "      <td>4</td>\n",
       "      <td>Ketua umum Erick Thohir mengungkapkan alasan F...</td>\n",
       "      <td>General chairman Erick Thohir revealed FIFA's ...</td>\n",
       "    </tr>\n",
       "    <tr>\n",
       "      <th>...</th>\n",
       "      <td>...</td>\n",
       "      <td>...</td>\n",
       "      <td>...</td>\n",
       "    </tr>\n",
       "    <tr>\n",
       "      <th>14802</th>\n",
       "      <td>14802</td>\n",
       "      <td>Piala Dunia U-20 Batal Digelar di Indonesia ht...</td>\n",
       "      <td>U-20 World Cup Canceled in Indonesia https://t...</td>\n",
       "    </tr>\n",
       "    <tr>\n",
       "      <th>14803</th>\n",
       "      <td>14803</td>\n",
       "      <td>4 Tahun Perjuangan Indonesia Jadi Tuan Rumah P...</td>\n",
       "      <td>4 Years of Struggle for Indonesia to Host the ...</td>\n",
       "    </tr>\n",
       "    <tr>\n",
       "      <th>14804</th>\n",
       "      <td>14804</td>\n",
       "      <td>@Metro_TV 3043 guru PI PPPK se-Indonesia dan T...</td>\n",
       "      <td>@Metro_TV 3043 PPPK PI ​​teachers throughout I...</td>\n",
       "    </tr>\n",
       "    <tr>\n",
       "      <th>14805</th>\n",
       "      <td>14805</td>\n",
       "      <td>Pemain Timnas Indonesia U-20 ramai-ramai tumpa...</td>\n",
       "      <td>The U-20 Indonesian National Team players are ...</td>\n",
       "    </tr>\n",
       "    <tr>\n",
       "      <th>14806</th>\n",
       "      <td>14806</td>\n",
       "      <td>Politikus PDIP Budiman Sudjatmiko mengatakan, ...</td>\n",
       "      <td>PDIP politician Budiman Sudjatmiko said PDIP h...</td>\n",
       "    </tr>\n",
       "  </tbody>\n",
       "</table>\n",
       "<p>14807 rows × 3 columns</p>\n",
       "</div>"
      ],
      "text/plain": [
       "       Unnamed: 0                                               Text  \\\n",
       "0               0  @ch_chotimah2 @Dennysiregar7 @erickthohir @jok...   \n",
       "1               1  Gagalnya perhelatan piala dunia U-20 di Indone...   \n",
       "2               2  @tatakujiyati Tapi @aniesbaswedan kan sering m...   \n",
       "3               3  Dicoret sebagai tuan rumah piala dunia U-20, b...   \n",
       "4               4  Ketua umum Erick Thohir mengungkapkan alasan F...   \n",
       "...           ...                                                ...   \n",
       "14802       14802  Piala Dunia U-20 Batal Digelar di Indonesia ht...   \n",
       "14803       14803  4 Tahun Perjuangan Indonesia Jadi Tuan Rumah P...   \n",
       "14804       14804  @Metro_TV 3043 guru PI PPPK se-Indonesia dan T...   \n",
       "14805       14805  Pemain Timnas Indonesia U-20 ramai-ramai tumpa...   \n",
       "14806       14806  Politikus PDIP Budiman Sudjatmiko mengatakan, ...   \n",
       "\n",
       "                                                 TextEng  \n",
       "0      @ch_chotimah2 @Dennysiregar7 @erickthohir @jok...  \n",
       "1      The failure of the U-20 world cup event in Ind...  \n",
       "2      @tatakujiyati But @aniesbaswedan often gives a...  \n",
       "3      Dropped as host of the U-20 world cup, will so...  \n",
       "4      General chairman Erick Thohir revealed FIFA's ...  \n",
       "...                                                  ...  \n",
       "14802  U-20 World Cup Canceled in Indonesia https://t...  \n",
       "14803  4 Years of Struggle for Indonesia to Host the ...  \n",
       "14804  @Metro_TV 3043 PPPK PI ​​teachers throughout I...  \n",
       "14805  The U-20 Indonesian National Team players are ...  \n",
       "14806  PDIP politician Budiman Sudjatmiko said PDIP h...  \n",
       "\n",
       "[14807 rows x 3 columns]"
      ]
     },
     "execution_count": 2,
     "metadata": {},
     "output_type": "execute_result"
    }
   ],
   "source": [
    "df = pd.read_csv(\"/Users/arman/Skripsi/Dataset/BigData/RawData/Piala-Dunia-20223-FIX-noFilter-Text-Eng.csv\")\n",
    "df"
   ]
  },
  {
   "cell_type": "code",
   "execution_count": 3,
   "id": "7c6dd1ae",
   "metadata": {},
   "outputs": [],
   "source": [
    "df = df.drop(labels=\"Unnamed: 0\", axis=1)\n",
    "# df = df.drop(labels=\"sentiment\", axis=1)"
   ]
  },
  {
   "cell_type": "code",
   "execution_count": 4,
   "id": "74b5b91d",
   "metadata": {},
   "outputs": [
    {
     "data": {
      "text/plain": [
       "Index(['Text', 'TextEng'], dtype='object')"
      ]
     },
     "execution_count": 4,
     "metadata": {},
     "output_type": "execute_result"
    }
   ],
   "source": [
    "df.columns"
   ]
  },
  {
   "cell_type": "code",
   "execution_count": 12,
   "id": "0f136bf7",
   "metadata": {},
   "outputs": [
    {
     "data": {
      "text/html": [
       "<div>\n",
       "<style scoped>\n",
       "    .dataframe tbody tr th:only-of-type {\n",
       "        vertical-align: middle;\n",
       "    }\n",
       "\n",
       "    .dataframe tbody tr th {\n",
       "        vertical-align: top;\n",
       "    }\n",
       "\n",
       "    .dataframe thead th {\n",
       "        text-align: right;\n",
       "    }\n",
       "</style>\n",
       "<table border=\"1\" class=\"dataframe\">\n",
       "  <thead>\n",
       "    <tr style=\"text-align: right;\">\n",
       "      <th></th>\n",
       "      <th>Text</th>\n",
       "      <th>TextEng</th>\n",
       "      <th>Compound</th>\n",
       "      <th>Label</th>\n",
       "    </tr>\n",
       "  </thead>\n",
       "  <tbody>\n",
       "    <tr>\n",
       "      <th>0</th>\n",
       "      <td>@ch_chotimah2 @Dennysiregar7 @erickthohir @jok...</td>\n",
       "      <td>@ch_chotimah2 @Dennysiregar7 @erickthohir @jok...</td>\n",
       "      <td>-0.6369</td>\n",
       "      <td>negatif</td>\n",
       "    </tr>\n",
       "    <tr>\n",
       "      <th>1</th>\n",
       "      <td>Gagalnya perhelatan piala dunia U-20 di Indone...</td>\n",
       "      <td>The failure of the U-20 world cup event in Ind...</td>\n",
       "      <td>0.2484</td>\n",
       "      <td>positif</td>\n",
       "    </tr>\n",
       "    <tr>\n",
       "      <th>2</th>\n",
       "      <td>@tatakujiyati Tapi @aniesbaswedan kan sering m...</td>\n",
       "      <td>@tatakujiyati But @aniesbaswedan often gives a...</td>\n",
       "      <td>-0.5719</td>\n",
       "      <td>negatif</td>\n",
       "    </tr>\n",
       "    <tr>\n",
       "      <th>3</th>\n",
       "      <td>Dicoret sebagai tuan rumah piala dunia U-20, b...</td>\n",
       "      <td>Dropped as host of the U-20 world cup, will so...</td>\n",
       "      <td>0.0000</td>\n",
       "      <td>netral</td>\n",
       "    </tr>\n",
       "    <tr>\n",
       "      <th>4</th>\n",
       "      <td>Ketua umum Erick Thohir mengungkapkan alasan F...</td>\n",
       "      <td>General chairman Erick Thohir revealed FIFA's ...</td>\n",
       "      <td>0.0000</td>\n",
       "      <td>netral</td>\n",
       "    </tr>\n",
       "  </tbody>\n",
       "</table>\n",
       "</div>"
      ],
      "text/plain": [
       "                                                Text  \\\n",
       "0  @ch_chotimah2 @Dennysiregar7 @erickthohir @jok...   \n",
       "1  Gagalnya perhelatan piala dunia U-20 di Indone...   \n",
       "2  @tatakujiyati Tapi @aniesbaswedan kan sering m...   \n",
       "3  Dicoret sebagai tuan rumah piala dunia U-20, b...   \n",
       "4  Ketua umum Erick Thohir mengungkapkan alasan F...   \n",
       "\n",
       "                                             TextEng  Compound    Label  \n",
       "0  @ch_chotimah2 @Dennysiregar7 @erickthohir @jok...   -0.6369  negatif  \n",
       "1  The failure of the U-20 world cup event in Ind...    0.2484  positif  \n",
       "2  @tatakujiyati But @aniesbaswedan often gives a...   -0.5719  negatif  \n",
       "3  Dropped as host of the U-20 world cup, will so...    0.0000   netral  \n",
       "4  General chairman Erick Thohir revealed FIFA's ...    0.0000   netral  "
      ]
     },
     "execution_count": 12,
     "metadata": {},
     "output_type": "execute_result"
    }
   ],
   "source": [
    "import nltk\n",
    "from nltk.sentiment.vader import SentimentIntensityAnalyzer\n",
    "sentiment = SentimentIntensityAnalyzer()\n",
    "\n",
    "df[\"Compound\"] = [sentiment.polarity_scores(i)[\"compound\"] for i in df[\"TextEng\"]]\n",
    "\n",
    "#inisial label\n",
    "score = df[\"Compound\"].values\n",
    "sentiment = []\n",
    "for i in score:\n",
    "    if i >= 0.05:\n",
    "        sentiment.append(\"positif\")\n",
    "    elif i <= -0.05:\n",
    "        sentiment.append(\"negatif\")\n",
    "    else:\n",
    "        sentiment.append(\"netral\")\n",
    "df[\"Label\"] = sentiment\n",
    "df.head()"
   ]
  },
  {
   "cell_type": "code",
   "execution_count": 8,
   "id": "2ee81005",
   "metadata": {},
   "outputs": [
    {
     "data": {
      "text/html": [
       "<div>\n",
       "<style scoped>\n",
       "    .dataframe tbody tr th:only-of-type {\n",
       "        vertical-align: middle;\n",
       "    }\n",
       "\n",
       "    .dataframe tbody tr th {\n",
       "        vertical-align: top;\n",
       "    }\n",
       "\n",
       "    .dataframe thead th {\n",
       "        text-align: right;\n",
       "    }\n",
       "</style>\n",
       "<table border=\"1\" class=\"dataframe\">\n",
       "  <thead>\n",
       "    <tr style=\"text-align: right;\">\n",
       "      <th></th>\n",
       "      <th>Text</th>\n",
       "      <th>Label</th>\n",
       "    </tr>\n",
       "  </thead>\n",
       "  <tbody>\n",
       "    <tr>\n",
       "      <th>0</th>\n",
       "      <td>@ch_chotimah2 @Dennysiregar7 @erickthohir @jok...</td>\n",
       "      <td>negatif</td>\n",
       "    </tr>\n",
       "    <tr>\n",
       "      <th>1</th>\n",
       "      <td>Gagalnya perhelatan piala dunia U-20 di Indone...</td>\n",
       "      <td>positif</td>\n",
       "    </tr>\n",
       "    <tr>\n",
       "      <th>2</th>\n",
       "      <td>@tatakujiyati Tapi @aniesbaswedan kan sering m...</td>\n",
       "      <td>negatif</td>\n",
       "    </tr>\n",
       "    <tr>\n",
       "      <th>3</th>\n",
       "      <td>Dicoret sebagai tuan rumah piala dunia U-20, b...</td>\n",
       "      <td>netral</td>\n",
       "    </tr>\n",
       "    <tr>\n",
       "      <th>4</th>\n",
       "      <td>Ketua umum Erick Thohir mengungkapkan alasan F...</td>\n",
       "      <td>netral</td>\n",
       "    </tr>\n",
       "    <tr>\n",
       "      <th>...</th>\n",
       "      <td>...</td>\n",
       "      <td>...</td>\n",
       "    </tr>\n",
       "    <tr>\n",
       "      <th>14802</th>\n",
       "      <td>Piala Dunia U-20 Batal Digelar di Indonesia ht...</td>\n",
       "      <td>netral</td>\n",
       "    </tr>\n",
       "    <tr>\n",
       "      <th>14803</th>\n",
       "      <td>4 Tahun Perjuangan Indonesia Jadi Tuan Rumah P...</td>\n",
       "      <td>negatif</td>\n",
       "    </tr>\n",
       "    <tr>\n",
       "      <th>14804</th>\n",
       "      <td>@Metro_TV 3043 guru PI PPPK se-Indonesia dan T...</td>\n",
       "      <td>netral</td>\n",
       "    </tr>\n",
       "    <tr>\n",
       "      <th>14805</th>\n",
       "      <td>Pemain Timnas Indonesia U-20 ramai-ramai tumpa...</td>\n",
       "      <td>negatif</td>\n",
       "    </tr>\n",
       "    <tr>\n",
       "      <th>14806</th>\n",
       "      <td>Politikus PDIP Budiman Sudjatmiko mengatakan, ...</td>\n",
       "      <td>positif</td>\n",
       "    </tr>\n",
       "  </tbody>\n",
       "</table>\n",
       "<p>14807 rows × 2 columns</p>\n",
       "</div>"
      ],
      "text/plain": [
       "                                                    Text    Label\n",
       "0      @ch_chotimah2 @Dennysiregar7 @erickthohir @jok...  negatif\n",
       "1      Gagalnya perhelatan piala dunia U-20 di Indone...  positif\n",
       "2      @tatakujiyati Tapi @aniesbaswedan kan sering m...  negatif\n",
       "3      Dicoret sebagai tuan rumah piala dunia U-20, b...   netral\n",
       "4      Ketua umum Erick Thohir mengungkapkan alasan F...   netral\n",
       "...                                                  ...      ...\n",
       "14802  Piala Dunia U-20 Batal Digelar di Indonesia ht...   netral\n",
       "14803  4 Tahun Perjuangan Indonesia Jadi Tuan Rumah P...  negatif\n",
       "14804  @Metro_TV 3043 guru PI PPPK se-Indonesia dan T...   netral\n",
       "14805  Pemain Timnas Indonesia U-20 ramai-ramai tumpa...  negatif\n",
       "14806  Politikus PDIP Budiman Sudjatmiko mengatakan, ...  positif\n",
       "\n",
       "[14807 rows x 2 columns]"
      ]
     },
     "execution_count": 8,
     "metadata": {},
     "output_type": "execute_result"
    }
   ],
   "source": [
    "df[['Text','Label']]"
   ]
  },
  {
   "cell_type": "code",
   "execution_count": 9,
   "id": "c5117b8c",
   "metadata": {},
   "outputs": [
    {
     "data": {
      "text/plain": [
       "negatif    6769\n",
       "positif    4946\n",
       "netral     3092\n",
       "Name: Label, dtype: int64"
      ]
     },
     "execution_count": 9,
     "metadata": {},
     "output_type": "execute_result"
    }
   ],
   "source": [
    "pd.value_counts(df['Label'])"
   ]
  },
  {
   "cell_type": "code",
   "execution_count": 10,
   "id": "b2dbfaca",
   "metadata": {},
   "outputs": [
    {
     "data": {
      "image/png": "[encoded data removed]",
      "text/plain": [
       "<Figure size 640x480 with 1 Axes>"
      ]
     },
     "metadata": {},
     "output_type": "display_data"
    }
   ],
   "source": [
    "import matplotlib.pyplot as plt\n",
    "import seaborn as sns; sns.set(font_scale=1.2)\n",
    "#pie chart\n",
    "labels = ['Positif','Netral','Negatif']\n",
    "Category2 = [4946,3092,6769]\n",
    "color = ['coral', 'c','yellow']\n",
    "plt.pie(Category2, labels=labels, colors=color,startangle=90, shadow=True, autopct='%1.2f%%', explode=(0.1, 0, 0))\n",
    "plt.title('Diagram Pie Chart')\n",
    "plt.legend()\n",
    "plt.show()"
   ]
  },
  {
   "cell_type": "code",
   "execution_count": 11,
   "id": "f84556af",
   "metadata": {},
   "outputs": [],
   "source": [
    "# keep_col = ['Text','Label']\n",
    "# new_df = df[keep_col]\n",
    "# new_df.to_csv(\"/Users/arman/Skripsi/Dataset/BigData/Fix/Piala-Dunia-Label.csv\", index=False)"
   ]
  },
  {
   "cell_type": "code",
   "execution_count": null,
   "id": "34f32e6f",
   "metadata": {},
   "outputs": [],
   "source": []
  }
 ],
 "metadata": {
  "kernelspec": {
   "display_name": "Python 3 (ipykernel)",
   "language": "python",
   "name": "python3"
  },
  "language_info": {
   "codemirror_mode": {
    "name": "ipython",
    "version": 3
   },
   "file_extension": ".py",
   "mimetype": "text/x-python",
   "name": "python",
   "nbconvert_exporter": "python",
   "pygments_lexer": "ipython3",
   "version": "3.10.9"
  }
 },
 "nbformat": 4,
 "nbformat_minor": 5
}
